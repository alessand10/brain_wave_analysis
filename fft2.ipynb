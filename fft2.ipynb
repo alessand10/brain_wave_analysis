{
 "cells": [
  {
   "cell_type": "markdown",
   "metadata": {},
   "source": [
    "DFT Equation:\n",
    "$\\\\X[m]=\\sum_{n=0}^{N-1}x[n] * W_N^{nm}$\n",
    "\n"
   ]
  },
  {
   "cell_type": "markdown",
   "metadata": {},
   "source": [
    "We break the full DFT into two N/2 DFTs:\n",
    "$\\\\X[m]=\\sum_{n=0}^{N-1}x[n] * W_N^{nm}$\n",
    "$\\\\X[m]=\\sum_{n=0}^{N/2-1}x[2n] * W_{N/2}^{nm} + W_{N}^{m}\\sum_{n=0}^{N/2-1}x[2n + 1] * W_{N/2}^{nm}$"
   ]
  },
  {
   "cell_type": "markdown",
   "metadata": {},
   "source": [
    "One DFT is performed on the even samples:\n",
    "$\\\\X_{2n}[m]=\\sum_{n=0}^{N/2-1}x[2n] * W_{N/2}^{nm}\\\\$\n",
    "Performed with samples x[0], x[2], x[4], ...\n",
    "\n",
    "And another is performed on the odd samples:\n",
    "$\\\\X_{2n+1}[m]=\\sum_{n=0}^{N/2-1}x[2n + 1] * W_{N/2}^{nm}\\\\$\n",
    "Performed with samples x[1], x[3], x[5], ..."
   ]
  },
  {
   "cell_type": "markdown",
   "metadata": {},
   "source": [
    "Each DFT can further be broken up into sums of smaller DFTs:\n",
    "$\\\\X_{2n}[m]=\\sum_{n=0}^{N/4-1}x[4n] * W_{N/4}^{nm} + W_{N/2}^{m}\\sum_{n=0}^{N/4-1}x[4n + 2] * W_{N/4}^{nm}\\\\$\n",
    "$\\\\X_{2n+1}[m]=\\sum_{n=0}^{N/4-1}x[4n+1] * W_{N/4}^{nm} + W_{N/2}^{m}\\sum_{n=0}^{N/4-1}x[4n + 3] * W_{N/4}^{nm}\\\\$"
   ]
  },
  {
   "cell_type": "markdown",
   "metadata": {},
   "source": [
    "The first DFT is perfomed on samples that are multiples of 4:\n",
    "$\\\\X_{4n}[m]=\\sum_{n=0}^{N/4-1}x[4n] * W_{N/4}^{nm}\\\\$\n",
    "on x[0], x[4], x[8]...\n",
    "\n",
    "The next DFT is perfomed on samples that, when subtracted by 1, are multiples of 4:\n",
    "$\\\\X_{4n + 1}[m]=\\sum_{n=0}^{N/4-1}x[4n+1] * W_{N/4}^{nm}\\\\$\n",
    "on x[1], x[5], x[9]...\n",
    "\n",
    "The next DFT is perfomed on samples that, when subtracted by 2, are multiples of 4:\n",
    "$\\\\X_{4n + 2}[m]=\\sum_{n=0}^{N/4-1}x[4n + 2] * W_{N/4}^{nm}\\\\$\n",
    "on x[2], x[6], x[10]...\n",
    "\n",
    "The last DFT is perfomed on samples that, when subtracted by 3, are multiples of 4:\n",
    "$\\\\X_{4n + 3}[m]=\\sum_{n=0}^{N/4-1}x[4n + 3] * W_{N/4}^{nm}\\\\$\n",
    "on x[3], x[7], x[11]..."
   ]
  }
 ],
 "metadata": {
  "kernelspec": {
   "display_name": "Python 3.9.0 64-bit",
   "language": "python",
   "name": "python3"
  },
  "language_info": {
   "name": "python",
   "version": "3.9.0"
  },
  "orig_nbformat": 4,
  "vscode": {
   "interpreter": {
    "hash": "397704579725e15f5c7cb49fe5f0341eb7531c82d19f2c29d197e8b64ab5776b"
   }
  }
 },
 "nbformat": 4,
 "nbformat_minor": 2
}
