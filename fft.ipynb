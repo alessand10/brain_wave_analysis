{
 "cells": [
  {
   "cell_type": "code",
   "execution_count": null,
   "metadata": {},
   "outputs": [],
   "source": []
  },
  {
   "cell_type": "markdown",
   "metadata": {},
   "source": [
    "The first layer of the FFT is the largest sum:\n",
    "$X[m]=\\sum_{n=0}^{N-1}x[n] * W_N^{nm}$"
   ]
  },
  {
   "cell_type": "markdown",
   "metadata": {},
   "source": [
    "We can break this sum into the following two sums:\n",
    "$X[m]=\\sum_{n=0}^{N/2-1}x[2n] * W_{N/2}^{nm} + W_{N}^{m}\\sum_{n=0}^{N/2-1}x[2n + 1] * W_{N/2}^{nm}$"
   ]
  },
  {
   "cell_type": "markdown",
   "metadata": {},
   "source": [
    "Futhermore, it can be shown that:\n",
    "$X[m + N/2]=\\sum_{n=0}^{N/2-1}x[2n] * W_{N/2}^{nm} - W_{N}^{m}\\sum_{n=0}^{N/2-1}x[2n + 1] * W_{N/2}^{nm}$"
   ]
  },
  {
   "cell_type": "markdown",
   "metadata": {},
   "source": [
    "Thus, it is only ever necessary to compute N/2 points of an N point DFT. This is especially useful when we combine this with a recursive approach:\n",
    "\n",
    "\n"
   ]
  }
 ],
 "metadata": {
  "kernelspec": {
   "display_name": "Python 3.9.0 64-bit",
   "language": "python",
   "name": "python3"
  },
  "language_info": {
   "name": "python",
   "version": "3.9.0"
  },
  "orig_nbformat": 4,
  "vscode": {
   "interpreter": {
    "hash": "397704579725e15f5c7cb49fe5f0341eb7531c82d19f2c29d197e8b64ab5776b"
   }
  }
 },
 "nbformat": 4,
 "nbformat_minor": 2
}
